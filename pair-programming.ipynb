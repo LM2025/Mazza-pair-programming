{
 "cells": [
  {
   "cell_type": "code",
   "execution_count": 13,
   "id": "ca595b91-8107-4423-b59a-47bc8e2617de",
   "metadata": {},
   "outputs": [
    {
     "name": "stdout",
     "output_type": "stream",
     "text": [
      "[0. 1. 2. 3. 4.]\n"
     ]
    },
    {
     "data": {
      "text/plain": [
       "2.0"
      ]
     },
     "execution_count": 13,
     "metadata": {},
     "output_type": "execute_result"
    }
   ],
   "source": [
    "import numpy as np\n",
    "def data_mean_offset(data,change_mean):\n",
    "    data_mean = np.mean(data)\n",
    "    diff = change_mean - data_mean\n",
    "    data = data + diff\n",
    "    return (data)\n",
    "data = np.array([1,2,3,4,5])\n",
    "print(data_mean_offset(data,2))\n",
    "np.mean(data_mean_offset(data,2))\n",
    "\n",
    "        "
   ]
  }
 ],
 "metadata": {
  "kernelspec": {
   "display_name": "Python 3 (ipykernel)",
   "language": "python",
   "name": "python3"
  },
  "language_info": {
   "codemirror_mode": {
    "name": "ipython",
    "version": 3
   },
   "file_extension": ".py",
   "mimetype": "text/x-python",
   "name": "python",
   "nbconvert_exporter": "python",
   "pygments_lexer": "ipython3",
   "version": "3.9.12"
  }
 },
 "nbformat": 4,
 "nbformat_minor": 5
}
