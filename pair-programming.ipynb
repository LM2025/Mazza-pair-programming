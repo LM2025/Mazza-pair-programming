{
 "cells": [
  {
   "cell_type": "code",
   "execution_count": 6,
   "id": "ca595b91-8107-4423-b59a-47bc8e2617de",
   "metadata": {},
   "outputs": [],
   "source": [
    "#Import Numpy \n",
    "import numpy as np\n",
    "#Create a function that will offset a mean by a given value\n",
    "def data_mean_offset(data,offset):\n",
    "    #Take the mean of the data and the difference between the offeset value and it.\n",
    "    data_mean = np.mean(data)\n",
    "    diff = offset - data_mean\n",
    "    #Add the difference to the original data to achieve the desired offset value \n",
    "    data = data + diff\n",
    "    #Return the data\n",
    "    return (data)\n",
    "data = np.array([1,2,3,4,5])\n",
    "\n",
    "\n",
    "        "
   ]
  }
 ],
 "metadata": {
  "kernelspec": {
   "display_name": "Python 3 (ipykernel)",
   "language": "python",
   "name": "python3"
  },
  "language_info": {
   "codemirror_mode": {
    "name": "ipython",
    "version": 3
   },
   "file_extension": ".py",
   "mimetype": "text/x-python",
   "name": "python",
   "nbconvert_exporter": "python",
   "pygments_lexer": "ipython3",
   "version": "3.9.12"
  }
 },
 "nbformat": 4,
 "nbformat_minor": 5
}
